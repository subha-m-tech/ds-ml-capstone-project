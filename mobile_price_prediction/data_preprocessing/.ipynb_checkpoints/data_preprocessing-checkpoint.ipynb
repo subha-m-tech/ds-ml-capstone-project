{
 "cells": [
  {
   "cell_type": "code",
   "execution_count": 3,
   "id": "cf3e4e79-2886-44cc-a6de-cc64225e2f7e",
   "metadata": {},
   "outputs": [],
   "source": [
    "import pandas as pd"
   ]
  },
  {
   "cell_type": "code",
   "execution_count": 4,
   "id": "97fa934c-594f-4377-b99b-06e0391e0671",
   "metadata": {},
   "outputs": [],
   "source": [
    "mob_dataset = pd.read_csv(\"../mobile_phone.csv\")"
   ]
  },
  {
   "cell_type": "code",
   "execution_count": 5,
   "id": "9e6fc6c3-e3b1-434f-bf71-ae8b21b18620",
   "metadata": {},
   "outputs": [
    {
     "data": {
      "text/html": [
       "<div>\n",
       "<style scoped>\n",
       "    .dataframe tbody tr th:only-of-type {\n",
       "        vertical-align: middle;\n",
       "    }\n",
       "\n",
       "    .dataframe tbody tr th {\n",
       "        vertical-align: top;\n",
       "    }\n",
       "\n",
       "    .dataframe thead th {\n",
       "        text-align: right;\n",
       "    }\n",
       "</style>\n",
       "<table border=\"1\" class=\"dataframe\">\n",
       "  <thead>\n",
       "    <tr style=\"text-align: right;\">\n",
       "      <th></th>\n",
       "      <th>Product_id</th>\n",
       "      <th>Price</th>\n",
       "      <th>Sale</th>\n",
       "      <th>weight</th>\n",
       "      <th>resoloution</th>\n",
       "      <th>ppi</th>\n",
       "      <th>cpu core</th>\n",
       "      <th>cpu freq</th>\n",
       "      <th>internal mem</th>\n",
       "      <th>ram</th>\n",
       "      <th>RearCam</th>\n",
       "      <th>Front_Cam</th>\n",
       "      <th>battery</th>\n",
       "      <th>thickness</th>\n",
       "    </tr>\n",
       "  </thead>\n",
       "  <tbody>\n",
       "    <tr>\n",
       "      <th>0</th>\n",
       "      <td>203</td>\n",
       "      <td>2357</td>\n",
       "      <td>10</td>\n",
       "      <td>135.0</td>\n",
       "      <td>5.20</td>\n",
       "      <td>424</td>\n",
       "      <td>8</td>\n",
       "      <td>1.350</td>\n",
       "      <td>16.0</td>\n",
       "      <td>3.000</td>\n",
       "      <td>13.00</td>\n",
       "      <td>8.0</td>\n",
       "      <td>2610</td>\n",
       "      <td>7.4</td>\n",
       "    </tr>\n",
       "    <tr>\n",
       "      <th>1</th>\n",
       "      <td>880</td>\n",
       "      <td>1749</td>\n",
       "      <td>10</td>\n",
       "      <td>125.0</td>\n",
       "      <td>4.00</td>\n",
       "      <td>233</td>\n",
       "      <td>2</td>\n",
       "      <td>1.300</td>\n",
       "      <td>4.0</td>\n",
       "      <td>1.000</td>\n",
       "      <td>3.15</td>\n",
       "      <td>0.0</td>\n",
       "      <td>1700</td>\n",
       "      <td>9.9</td>\n",
       "    </tr>\n",
       "    <tr>\n",
       "      <th>2</th>\n",
       "      <td>40</td>\n",
       "      <td>1916</td>\n",
       "      <td>10</td>\n",
       "      <td>110.0</td>\n",
       "      <td>4.70</td>\n",
       "      <td>312</td>\n",
       "      <td>4</td>\n",
       "      <td>1.200</td>\n",
       "      <td>8.0</td>\n",
       "      <td>1.500</td>\n",
       "      <td>13.00</td>\n",
       "      <td>5.0</td>\n",
       "      <td>2000</td>\n",
       "      <td>7.6</td>\n",
       "    </tr>\n",
       "    <tr>\n",
       "      <th>3</th>\n",
       "      <td>99</td>\n",
       "      <td>1315</td>\n",
       "      <td>11</td>\n",
       "      <td>118.5</td>\n",
       "      <td>4.00</td>\n",
       "      <td>233</td>\n",
       "      <td>2</td>\n",
       "      <td>1.300</td>\n",
       "      <td>4.0</td>\n",
       "      <td>0.512</td>\n",
       "      <td>3.15</td>\n",
       "      <td>0.0</td>\n",
       "      <td>1400</td>\n",
       "      <td>11.0</td>\n",
       "    </tr>\n",
       "    <tr>\n",
       "      <th>4</th>\n",
       "      <td>880</td>\n",
       "      <td>1749</td>\n",
       "      <td>11</td>\n",
       "      <td>125.0</td>\n",
       "      <td>4.00</td>\n",
       "      <td>233</td>\n",
       "      <td>2</td>\n",
       "      <td>1.300</td>\n",
       "      <td>4.0</td>\n",
       "      <td>1.000</td>\n",
       "      <td>3.15</td>\n",
       "      <td>0.0</td>\n",
       "      <td>1700</td>\n",
       "      <td>9.9</td>\n",
       "    </tr>\n",
       "    <tr>\n",
       "      <th>...</th>\n",
       "      <td>...</td>\n",
       "      <td>...</td>\n",
       "      <td>...</td>\n",
       "      <td>...</td>\n",
       "      <td>...</td>\n",
       "      <td>...</td>\n",
       "      <td>...</td>\n",
       "      <td>...</td>\n",
       "      <td>...</td>\n",
       "      <td>...</td>\n",
       "      <td>...</td>\n",
       "      <td>...</td>\n",
       "      <td>...</td>\n",
       "      <td>...</td>\n",
       "    </tr>\n",
       "    <tr>\n",
       "      <th>156</th>\n",
       "      <td>1206</td>\n",
       "      <td>3551</td>\n",
       "      <td>4638</td>\n",
       "      <td>178.0</td>\n",
       "      <td>5.46</td>\n",
       "      <td>538</td>\n",
       "      <td>4</td>\n",
       "      <td>1.875</td>\n",
       "      <td>128.0</td>\n",
       "      <td>6.000</td>\n",
       "      <td>12.00</td>\n",
       "      <td>16.0</td>\n",
       "      <td>4080</td>\n",
       "      <td>8.4</td>\n",
       "    </tr>\n",
       "    <tr>\n",
       "      <th>157</th>\n",
       "      <td>1296</td>\n",
       "      <td>3211</td>\n",
       "      <td>8016</td>\n",
       "      <td>170.0</td>\n",
       "      <td>5.50</td>\n",
       "      <td>534</td>\n",
       "      <td>4</td>\n",
       "      <td>1.975</td>\n",
       "      <td>128.0</td>\n",
       "      <td>6.000</td>\n",
       "      <td>20.00</td>\n",
       "      <td>8.0</td>\n",
       "      <td>3400</td>\n",
       "      <td>7.9</td>\n",
       "    </tr>\n",
       "    <tr>\n",
       "      <th>158</th>\n",
       "      <td>856</td>\n",
       "      <td>3260</td>\n",
       "      <td>8809</td>\n",
       "      <td>150.0</td>\n",
       "      <td>5.50</td>\n",
       "      <td>401</td>\n",
       "      <td>8</td>\n",
       "      <td>2.200</td>\n",
       "      <td>64.0</td>\n",
       "      <td>4.000</td>\n",
       "      <td>20.00</td>\n",
       "      <td>20.0</td>\n",
       "      <td>3000</td>\n",
       "      <td>6.8</td>\n",
       "    </tr>\n",
       "    <tr>\n",
       "      <th>159</th>\n",
       "      <td>1296</td>\n",
       "      <td>3211</td>\n",
       "      <td>8946</td>\n",
       "      <td>170.0</td>\n",
       "      <td>5.50</td>\n",
       "      <td>534</td>\n",
       "      <td>4</td>\n",
       "      <td>1.975</td>\n",
       "      <td>128.0</td>\n",
       "      <td>6.000</td>\n",
       "      <td>20.00</td>\n",
       "      <td>8.0</td>\n",
       "      <td>3400</td>\n",
       "      <td>7.9</td>\n",
       "    </tr>\n",
       "    <tr>\n",
       "      <th>160</th>\n",
       "      <td>1131</td>\n",
       "      <td>2536</td>\n",
       "      <td>9807</td>\n",
       "      <td>202.0</td>\n",
       "      <td>6.00</td>\n",
       "      <td>367</td>\n",
       "      <td>8</td>\n",
       "      <td>1.500</td>\n",
       "      <td>16.0</td>\n",
       "      <td>3.000</td>\n",
       "      <td>21.50</td>\n",
       "      <td>16.0</td>\n",
       "      <td>2700</td>\n",
       "      <td>8.4</td>\n",
       "    </tr>\n",
       "  </tbody>\n",
       "</table>\n",
       "<p>161 rows × 14 columns</p>\n",
       "</div>"
      ],
      "text/plain": [
       "     Product_id  Price  Sale  weight  resoloution  ppi  cpu core  cpu freq  \\\n",
       "0           203   2357    10   135.0         5.20  424         8     1.350   \n",
       "1           880   1749    10   125.0         4.00  233         2     1.300   \n",
       "2            40   1916    10   110.0         4.70  312         4     1.200   \n",
       "3            99   1315    11   118.5         4.00  233         2     1.300   \n",
       "4           880   1749    11   125.0         4.00  233         2     1.300   \n",
       "..          ...    ...   ...     ...          ...  ...       ...       ...   \n",
       "156        1206   3551  4638   178.0         5.46  538         4     1.875   \n",
       "157        1296   3211  8016   170.0         5.50  534         4     1.975   \n",
       "158         856   3260  8809   150.0         5.50  401         8     2.200   \n",
       "159        1296   3211  8946   170.0         5.50  534         4     1.975   \n",
       "160        1131   2536  9807   202.0         6.00  367         8     1.500   \n",
       "\n",
       "     internal mem    ram  RearCam  Front_Cam  battery  thickness  \n",
       "0            16.0  3.000    13.00        8.0     2610        7.4  \n",
       "1             4.0  1.000     3.15        0.0     1700        9.9  \n",
       "2             8.0  1.500    13.00        5.0     2000        7.6  \n",
       "3             4.0  0.512     3.15        0.0     1400       11.0  \n",
       "4             4.0  1.000     3.15        0.0     1700        9.9  \n",
       "..            ...    ...      ...        ...      ...        ...  \n",
       "156         128.0  6.000    12.00       16.0     4080        8.4  \n",
       "157         128.0  6.000    20.00        8.0     3400        7.9  \n",
       "158          64.0  4.000    20.00       20.0     3000        6.8  \n",
       "159         128.0  6.000    20.00        8.0     3400        7.9  \n",
       "160          16.0  3.000    21.50       16.0     2700        8.4  \n",
       "\n",
       "[161 rows x 14 columns]"
      ]
     },
     "execution_count": 5,
     "metadata": {},
     "output_type": "execute_result"
    }
   ],
   "source": [
    "mob_dataset"
   ]
  },
  {
   "cell_type": "code",
   "execution_count": 6,
   "id": "c955cd35-bb70-4fb5-8339-8d45574b4f11",
   "metadata": {},
   "outputs": [
    {
     "data": {
      "text/plain": [
       "Product_id      0\n",
       "Price           0\n",
       "Sale            0\n",
       "weight          0\n",
       "resoloution     0\n",
       "ppi             0\n",
       "cpu core        0\n",
       "cpu freq        0\n",
       "internal mem    0\n",
       "ram             0\n",
       "RearCam         0\n",
       "Front_Cam       0\n",
       "battery         0\n",
       "thickness       0\n",
       "dtype: int64"
      ]
     },
     "execution_count": 6,
     "metadata": {},
     "output_type": "execute_result"
    }
   ],
   "source": [
    "mob_dataset.isnull().sum()"
   ]
  },
  {
   "cell_type": "code",
   "execution_count": 7,
   "id": "ce280150-bef5-499b-84d3-9b608b8c9db3",
   "metadata": {},
   "outputs": [
    {
     "data": {
      "text/html": [
       "<div>\n",
       "<style scoped>\n",
       "    .dataframe tbody tr th:only-of-type {\n",
       "        vertical-align: middle;\n",
       "    }\n",
       "\n",
       "    .dataframe tbody tr th {\n",
       "        vertical-align: top;\n",
       "    }\n",
       "\n",
       "    .dataframe thead th {\n",
       "        text-align: right;\n",
       "    }\n",
       "</style>\n",
       "<table border=\"1\" class=\"dataframe\">\n",
       "  <thead>\n",
       "    <tr style=\"text-align: right;\">\n",
       "      <th></th>\n",
       "      <th>Product_id</th>\n",
       "      <th>Price</th>\n",
       "      <th>Sale</th>\n",
       "      <th>weight</th>\n",
       "      <th>resoloution</th>\n",
       "      <th>ppi</th>\n",
       "      <th>cpu core</th>\n",
       "      <th>cpu freq</th>\n",
       "      <th>internal mem</th>\n",
       "      <th>ram</th>\n",
       "      <th>RearCam</th>\n",
       "      <th>Front_Cam</th>\n",
       "      <th>battery</th>\n",
       "      <th>thickness</th>\n",
       "    </tr>\n",
       "  </thead>\n",
       "  <tbody>\n",
       "  </tbody>\n",
       "</table>\n",
       "</div>"
      ],
      "text/plain": [
       "Empty DataFrame\n",
       "Columns: [Product_id, Price, Sale, weight, resoloution, ppi, cpu core, cpu freq, internal mem, ram, RearCam, Front_Cam, battery, thickness]\n",
       "Index: []"
      ]
     },
     "execution_count": 7,
     "metadata": {},
     "output_type": "execute_result"
    }
   ],
   "source": [
    "mob_dataset[mob_dataset.duplicated()]"
   ]
  },
  {
   "cell_type": "markdown",
   "id": "f070beec-d245-46c7-8f9d-8043fd258c60",
   "metadata": {},
   "source": [
    "# Change the spelling mistake in the name of a column \"resoloution\""
   ]
  },
  {
   "cell_type": "code",
   "execution_count": 8,
   "id": "44a31678-f536-454d-a723-1f9520b8be1c",
   "metadata": {},
   "outputs": [],
   "source": [
    "mob_dataset.rename(columns=lambda x: x.lower(),inplace=True)"
   ]
  },
  {
   "cell_type": "code",
   "execution_count": 9,
   "id": "2ceb8056-5ed9-4d67-8bbe-dc67b42f4655",
   "metadata": {},
   "outputs": [],
   "source": [
    "mob_dataset.rename(columns={\"resoloution\": \"resolution\"}, inplace=True)"
   ]
  },
  {
   "cell_type": "code",
   "execution_count": 10,
   "id": "8882c25e-470b-4b5a-a179-b7d3539d6444",
   "metadata": {},
   "outputs": [],
   "source": [
    "mob_dataset.rename(columns={\"product_id\": \"product id\"}, inplace=True)"
   ]
  },
  {
   "cell_type": "code",
   "execution_count": 11,
   "id": "02740569-7274-4e84-a879-71c8e40e39dd",
   "metadata": {},
   "outputs": [],
   "source": [
    "mob_dataset.rename(columns={\"front_cam\": \"front cam\"}, inplace=True)"
   ]
  },
  {
   "cell_type": "code",
   "execution_count": 12,
   "id": "72cd8297-1486-43e9-aa15-7680e306388d",
   "metadata": {},
   "outputs": [
    {
     "data": {
      "text/plain": [
       "product id        int64\n",
       "price             int64\n",
       "sale              int64\n",
       "weight          float64\n",
       "resolution      float64\n",
       "ppi               int64\n",
       "cpu core          int64\n",
       "cpu freq        float64\n",
       "internal mem    float64\n",
       "ram             float64\n",
       "rearcam         float64\n",
       "front cam       float64\n",
       "battery           int64\n",
       "thickness       float64\n",
       "dtype: object"
      ]
     },
     "execution_count": 12,
     "metadata": {},
     "output_type": "execute_result"
    }
   ],
   "source": [
    "mob_dataset.dtypes"
   ]
  },
  {
   "cell_type": "code",
   "execution_count": 14,
   "id": "3590ba44-ab91-4142-9e55-e05467922a53",
   "metadata": {},
   "outputs": [
    {
     "name": "stdout",
     "output_type": "stream",
     "text": [
      "0\n"
     ]
    }
   ],
   "source": [
    "print(mob_dataset.isna().sum().sum()) "
   ]
  },
  {
   "cell_type": "code",
   "execution_count": 15,
   "id": "76788e2d-1294-4a29-b3cd-706a4b9d55aa",
   "metadata": {},
   "outputs": [
    {
     "name": "stdout",
     "output_type": "stream",
     "text": [
      "Empty DataFrame\n",
      "Columns: [product id, price, sale, weight, resolution, ppi, cpu core, cpu freq, internal mem, ram, rearcam, front cam, battery, thickness]\n",
      "Index: []\n"
     ]
    }
   ],
   "source": [
    "nan_rows = mob_dataset[mob_dataset.isna().any(axis=1)]\n",
    "print(nan_rows)"
   ]
  },
  {
   "cell_type": "code",
   "execution_count": 33,
   "id": "34f1c137-8092-49ff-8e75-b69f99f2dc25",
   "metadata": {},
   "outputs": [],
   "source": [
    "mob_dataset.to_csv(\"../pre_mobile_dataset.csv\", index=False)"
   ]
  },
  {
   "cell_type": "markdown",
   "id": "bec9161d-2d74-4eef-aeca-259195a24c72",
   "metadata": {},
   "source": [
    "# There is no null and missing values in the dataset and the datatypes are mentioned correctly so we can go with next step"
   ]
  },
  {
   "cell_type": "code",
   "execution_count": null,
   "id": "9531545e-f7c8-445b-9e97-db1f48002868",
   "metadata": {},
   "outputs": [],
   "source": []
  }
 ],
 "metadata": {
  "kernelspec": {
   "display_name": "Python 3 (ipykernel)",
   "language": "python",
   "name": "python3"
  },
  "language_info": {
   "codemirror_mode": {
    "name": "ipython",
    "version": 3
   },
   "file_extension": ".py",
   "mimetype": "text/x-python",
   "name": "python",
   "nbconvert_exporter": "python",
   "pygments_lexer": "ipython3",
   "version": "3.11.5"
  }
 },
 "nbformat": 4,
 "nbformat_minor": 5
}
