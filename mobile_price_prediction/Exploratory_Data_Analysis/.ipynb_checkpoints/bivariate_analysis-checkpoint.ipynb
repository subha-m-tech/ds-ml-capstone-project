{
 "cells": [
  {
   "cell_type": "code",
   "execution_count": 1,
   "id": "f5826125-4f67-489c-ae98-46326c53a0dd",
   "metadata": {},
   "outputs": [],
   "source": [
    "import pandas as pd\n",
    "import numpy as np"
   ]
  },
  {
   "cell_type": "code",
   "execution_count": 2,
   "id": "5309e538-8b51-43f3-9767-1b419068cd71",
   "metadata": {},
   "outputs": [],
   "source": [
    "mob_dataset = pd.read_csv(\"../final_mob_dataset.csv\")"
   ]
  },
  {
   "cell_type": "code",
   "execution_count": 3,
   "id": "06b21722-78a1-4ae2-a380-47b5618a594d",
   "metadata": {},
   "outputs": [
    {
     "data": {
      "text/html": [
       "<div>\n",
       "<style scoped>\n",
       "    .dataframe tbody tr th:only-of-type {\n",
       "        vertical-align: middle;\n",
       "    }\n",
       "\n",
       "    .dataframe tbody tr th {\n",
       "        vertical-align: top;\n",
       "    }\n",
       "\n",
       "    .dataframe thead th {\n",
       "        text-align: right;\n",
       "    }\n",
       "</style>\n",
       "<table border=\"1\" class=\"dataframe\">\n",
       "  <thead>\n",
       "    <tr style=\"text-align: right;\">\n",
       "      <th></th>\n",
       "      <th>product id</th>\n",
       "      <th>price</th>\n",
       "      <th>sale</th>\n",
       "      <th>weight</th>\n",
       "      <th>resolution</th>\n",
       "      <th>ppi</th>\n",
       "      <th>cpu core</th>\n",
       "      <th>cpu freq</th>\n",
       "      <th>internal mem</th>\n",
       "      <th>ram</th>\n",
       "      <th>rearcam</th>\n",
       "      <th>front cam</th>\n",
       "      <th>battery</th>\n",
       "      <th>thickness</th>\n",
       "    </tr>\n",
       "  </thead>\n",
       "  <tbody>\n",
       "    <tr>\n",
       "      <th>0</th>\n",
       "      <td>203</td>\n",
       "      <td>2357</td>\n",
       "      <td>10.0</td>\n",
       "      <td>135.0</td>\n",
       "      <td>5.20</td>\n",
       "      <td>424.0</td>\n",
       "      <td>8</td>\n",
       "      <td>1.350</td>\n",
       "      <td>16.0</td>\n",
       "      <td>3.000</td>\n",
       "      <td>13.00</td>\n",
       "      <td>8.0</td>\n",
       "      <td>2610</td>\n",
       "      <td>7.4</td>\n",
       "    </tr>\n",
       "    <tr>\n",
       "      <th>1</th>\n",
       "      <td>880</td>\n",
       "      <td>1749</td>\n",
       "      <td>10.0</td>\n",
       "      <td>125.0</td>\n",
       "      <td>4.00</td>\n",
       "      <td>233.0</td>\n",
       "      <td>2</td>\n",
       "      <td>1.300</td>\n",
       "      <td>4.0</td>\n",
       "      <td>1.000</td>\n",
       "      <td>3.15</td>\n",
       "      <td>0.0</td>\n",
       "      <td>1700</td>\n",
       "      <td>9.9</td>\n",
       "    </tr>\n",
       "    <tr>\n",
       "      <th>2</th>\n",
       "      <td>40</td>\n",
       "      <td>1916</td>\n",
       "      <td>10.0</td>\n",
       "      <td>110.0</td>\n",
       "      <td>4.70</td>\n",
       "      <td>312.0</td>\n",
       "      <td>4</td>\n",
       "      <td>1.200</td>\n",
       "      <td>8.0</td>\n",
       "      <td>1.500</td>\n",
       "      <td>13.00</td>\n",
       "      <td>5.0</td>\n",
       "      <td>2000</td>\n",
       "      <td>7.6</td>\n",
       "    </tr>\n",
       "    <tr>\n",
       "      <th>3</th>\n",
       "      <td>99</td>\n",
       "      <td>1315</td>\n",
       "      <td>11.0</td>\n",
       "      <td>118.5</td>\n",
       "      <td>4.00</td>\n",
       "      <td>233.0</td>\n",
       "      <td>2</td>\n",
       "      <td>1.300</td>\n",
       "      <td>4.0</td>\n",
       "      <td>0.512</td>\n",
       "      <td>3.15</td>\n",
       "      <td>0.0</td>\n",
       "      <td>1400</td>\n",
       "      <td>11.0</td>\n",
       "    </tr>\n",
       "    <tr>\n",
       "      <th>4</th>\n",
       "      <td>880</td>\n",
       "      <td>1749</td>\n",
       "      <td>11.0</td>\n",
       "      <td>125.0</td>\n",
       "      <td>4.00</td>\n",
       "      <td>233.0</td>\n",
       "      <td>2</td>\n",
       "      <td>1.300</td>\n",
       "      <td>4.0</td>\n",
       "      <td>1.000</td>\n",
       "      <td>3.15</td>\n",
       "      <td>0.0</td>\n",
       "      <td>1700</td>\n",
       "      <td>9.9</td>\n",
       "    </tr>\n",
       "    <tr>\n",
       "      <th>...</th>\n",
       "      <td>...</td>\n",
       "      <td>...</td>\n",
       "      <td>...</td>\n",
       "      <td>...</td>\n",
       "      <td>...</td>\n",
       "      <td>...</td>\n",
       "      <td>...</td>\n",
       "      <td>...</td>\n",
       "      <td>...</td>\n",
       "      <td>...</td>\n",
       "      <td>...</td>\n",
       "      <td>...</td>\n",
       "      <td>...</td>\n",
       "      <td>...</td>\n",
       "    </tr>\n",
       "    <tr>\n",
       "      <th>156</th>\n",
       "      <td>1206</td>\n",
       "      <td>3551</td>\n",
       "      <td>899.5</td>\n",
       "      <td>178.0</td>\n",
       "      <td>5.46</td>\n",
       "      <td>538.0</td>\n",
       "      <td>4</td>\n",
       "      <td>1.875</td>\n",
       "      <td>68.0</td>\n",
       "      <td>6.000</td>\n",
       "      <td>12.00</td>\n",
       "      <td>16.0</td>\n",
       "      <td>4080</td>\n",
       "      <td>8.4</td>\n",
       "    </tr>\n",
       "    <tr>\n",
       "      <th>157</th>\n",
       "      <td>1296</td>\n",
       "      <td>3211</td>\n",
       "      <td>899.5</td>\n",
       "      <td>170.0</td>\n",
       "      <td>5.50</td>\n",
       "      <td>534.0</td>\n",
       "      <td>4</td>\n",
       "      <td>1.975</td>\n",
       "      <td>68.0</td>\n",
       "      <td>6.000</td>\n",
       "      <td>20.00</td>\n",
       "      <td>8.0</td>\n",
       "      <td>3400</td>\n",
       "      <td>7.9</td>\n",
       "    </tr>\n",
       "    <tr>\n",
       "      <th>158</th>\n",
       "      <td>856</td>\n",
       "      <td>3260</td>\n",
       "      <td>899.5</td>\n",
       "      <td>150.0</td>\n",
       "      <td>5.50</td>\n",
       "      <td>401.0</td>\n",
       "      <td>8</td>\n",
       "      <td>2.200</td>\n",
       "      <td>64.0</td>\n",
       "      <td>4.000</td>\n",
       "      <td>20.00</td>\n",
       "      <td>20.0</td>\n",
       "      <td>3000</td>\n",
       "      <td>6.8</td>\n",
       "    </tr>\n",
       "    <tr>\n",
       "      <th>159</th>\n",
       "      <td>1296</td>\n",
       "      <td>3211</td>\n",
       "      <td>899.5</td>\n",
       "      <td>170.0</td>\n",
       "      <td>5.50</td>\n",
       "      <td>534.0</td>\n",
       "      <td>4</td>\n",
       "      <td>1.975</td>\n",
       "      <td>68.0</td>\n",
       "      <td>6.000</td>\n",
       "      <td>20.00</td>\n",
       "      <td>8.0</td>\n",
       "      <td>3400</td>\n",
       "      <td>7.9</td>\n",
       "    </tr>\n",
       "    <tr>\n",
       "      <th>160</th>\n",
       "      <td>1131</td>\n",
       "      <td>2536</td>\n",
       "      <td>899.5</td>\n",
       "      <td>202.0</td>\n",
       "      <td>6.00</td>\n",
       "      <td>367.0</td>\n",
       "      <td>8</td>\n",
       "      <td>1.500</td>\n",
       "      <td>16.0</td>\n",
       "      <td>3.000</td>\n",
       "      <td>21.50</td>\n",
       "      <td>16.0</td>\n",
       "      <td>2700</td>\n",
       "      <td>8.4</td>\n",
       "    </tr>\n",
       "  </tbody>\n",
       "</table>\n",
       "<p>161 rows × 14 columns</p>\n",
       "</div>"
      ],
      "text/plain": [
       "     product id  price   sale  weight  resolution    ppi  cpu core  cpu freq  \\\n",
       "0           203   2357   10.0   135.0        5.20  424.0         8     1.350   \n",
       "1           880   1749   10.0   125.0        4.00  233.0         2     1.300   \n",
       "2            40   1916   10.0   110.0        4.70  312.0         4     1.200   \n",
       "3            99   1315   11.0   118.5        4.00  233.0         2     1.300   \n",
       "4           880   1749   11.0   125.0        4.00  233.0         2     1.300   \n",
       "..          ...    ...    ...     ...         ...    ...       ...       ...   \n",
       "156        1206   3551  899.5   178.0        5.46  538.0         4     1.875   \n",
       "157        1296   3211  899.5   170.0        5.50  534.0         4     1.975   \n",
       "158         856   3260  899.5   150.0        5.50  401.0         8     2.200   \n",
       "159        1296   3211  899.5   170.0        5.50  534.0         4     1.975   \n",
       "160        1131   2536  899.5   202.0        6.00  367.0         8     1.500   \n",
       "\n",
       "     internal mem    ram  rearcam  front cam  battery  thickness  \n",
       "0            16.0  3.000    13.00        8.0     2610        7.4  \n",
       "1             4.0  1.000     3.15        0.0     1700        9.9  \n",
       "2             8.0  1.500    13.00        5.0     2000        7.6  \n",
       "3             4.0  0.512     3.15        0.0     1400       11.0  \n",
       "4             4.0  1.000     3.15        0.0     1700        9.9  \n",
       "..            ...    ...      ...        ...      ...        ...  \n",
       "156          68.0  6.000    12.00       16.0     4080        8.4  \n",
       "157          68.0  6.000    20.00        8.0     3400        7.9  \n",
       "158          64.0  4.000    20.00       20.0     3000        6.8  \n",
       "159          68.0  6.000    20.00        8.0     3400        7.9  \n",
       "160          16.0  3.000    21.50       16.0     2700        8.4  \n",
       "\n",
       "[161 rows x 14 columns]"
      ]
     },
     "execution_count": 3,
     "metadata": {},
     "output_type": "execute_result"
    }
   ],
   "source": [
    "mob_dataset"
   ]
  },
  {
   "cell_type": "code",
   "execution_count": 4,
   "id": "0977659d-c758-494c-8850-843535be90e9",
   "metadata": {},
   "outputs": [
    {
     "data": {
      "text/plain": [
       "product id      0\n",
       "price           0\n",
       "sale            0\n",
       "weight          0\n",
       "resolution      0\n",
       "ppi             0\n",
       "cpu core        0\n",
       "cpu freq        0\n",
       "internal mem    0\n",
       "ram             0\n",
       "rearcam         0\n",
       "front cam       0\n",
       "battery         0\n",
       "thickness       0\n",
       "dtype: int64"
      ]
     },
     "execution_count": 4,
     "metadata": {},
     "output_type": "execute_result"
    }
   ],
   "source": [
    "mob_dataset.isnull().sum()"
   ]
  },
  {
   "cell_type": "code",
   "execution_count": 5,
   "id": "15f74a28-61da-492e-8602-0a7321cf68af",
   "metadata": {},
   "outputs": [],
   "source": [
    "import seaborn as sns"
   ]
  },
  {
   "cell_type": "code",
   "execution_count": null,
   "id": "85cc76c7-a51c-413b-9ae9-9e2dc8cae0d4",
   "metadata": {},
   "outputs": [
    {
     "data": {
      "text/plain": [
       "<seaborn.axisgrid.PairGrid at 0x14fc08310>"
      ]
     },
     "execution_count": 6,
     "metadata": {},
     "output_type": "execute_result"
    }
   ],
   "source": [
    "sns.pairplot(mob_dataset)"
   ]
  },
  {
   "cell_type": "code",
   "execution_count": null,
   "id": "bebe9ec6-4c04-484c-b0a4-c504a4c4d742",
   "metadata": {},
   "outputs": [],
   "source": [
    "def quan_qual(dataset):\n",
    "    quan , qual = [], []\n",
    "    for i in dataset.columns:\n",
    "        if dataset[i].dtype == 'O':\n",
    "            qual.append(i)\n",
    "        else:\n",
    "            quan.append(i)\n",
    "    return quan, qual"
   ]
  },
  {
   "cell_type": "code",
   "execution_count": null,
   "id": "b30a1211-55cf-4aba-b926-028f8eb5889e",
   "metadata": {},
   "outputs": [],
   "source": [
    "quan, qual = quan_qual(mob_dataset)"
   ]
  },
  {
   "cell_type": "code",
   "execution_count": null,
   "id": "099671f4-4669-4c34-b7a5-835f70e6141a",
   "metadata": {},
   "outputs": [],
   "source": [
    "quan"
   ]
  },
  {
   "cell_type": "code",
   "execution_count": null,
   "id": "e54ec61f-1ae1-4cee-9209-7cc54ba784aa",
   "metadata": {},
   "outputs": [],
   "source": [
    "import matplotlib.pyplot as plt\n",
    "sns.heatmap(mob_dataset[quan].corr(), annot=True, cmap=\"coolwarm\")\n",
    "plt.show()"
   ]
  },
  {
   "cell_type": "code",
   "execution_count": null,
   "id": "35b9490c-57fc-4134-913d-aa7d7d105d8e",
   "metadata": {},
   "outputs": [],
   "source": [
    "## Calculate variance inflation factor to check multicolinearity"
   ]
  },
  {
   "cell_type": "code",
   "execution_count": null,
   "id": "d503b6c2-995d-4943-979c-e51af91bb009",
   "metadata": {},
   "outputs": [],
   "source": [
    "from statsmodels.stats.outliers_influence import variance_inflation_factor\n",
    "# Calculating VIF\n",
    "def cal_vif(X):\n",
    "\n",
    "    # create Empty Dataframe to store columns and its vif values\n",
    "    vif = pd.DataFrame()\n",
    "\n",
    "    # store quantitative columns in vif column  \"variable\"\n",
    "    vif[\"variable\"] = X.columns\n",
    "\n",
    "    # store each quantitative column's vif values in vif column  \"VIF\"\n",
    "    vif[\"VIF\"] = [variance_inflation_factor(X.values, i) for i in range(X.shape[1])]\n",
    "    return vif"
   ]
  },
  {
   "cell_type": "code",
   "execution_count": null,
   "id": "1f3fdb5d-d513-420f-9683-8b727912ff8b",
   "metadata": {},
   "outputs": [],
   "source": [
    "cal_vif(mob_dataset[quan])"
   ]
  },
  {
   "cell_type": "markdown",
   "id": "5a258c54-8a62-49bd-8082-b9824fbc3a52",
   "metadata": {},
   "source": [
    "## All the columns are having VIF > 5 so we can say all the columns are highly correlated except Product_id, Sale, Front Cam columns."
   ]
  },
  {
   "cell_type": "markdown",
   "id": "c53423eb-7c94-4927-a63b-8e33f3eda29d",
   "metadata": {},
   "source": [
    "## Check covariance and Correlations"
   ]
  },
  {
   "cell_type": "code",
   "execution_count": null,
   "id": "a5323503-6402-4774-931e-17a20d10eab1",
   "metadata": {},
   "outputs": [],
   "source": [
    "mob_dataset.cov(numeric_only=True)"
   ]
  },
  {
   "cell_type": "markdown",
   "id": "4dc15c5a-2496-4aae-a1e4-eecdebc61fea",
   "metadata": {},
   "source": [
    "## what is the kind of covarience between Price and Battery\n",
    "\n",
    "## The covarience value of Price and Battery is 3343.475543 which is a postive values so it is positive covarience and both are increase/decrease together."
   ]
  },
  {
   "cell_type": "code",
   "execution_count": null,
   "id": "1960685c-42a8-41a3-9d16-b45daddb870c",
   "metadata": {},
   "outputs": [],
   "source": [
    "mob_dataset.corr(numeric_only=True)"
   ]
  },
  {
   "cell_type": "markdown",
   "id": "7a6ed2d6-6b83-4cc1-9950-6fadbbba0481",
   "metadata": {},
   "source": [
    "## what is the kind of Correation between Price and Battery\n",
    "\n",
    "## Correlation between Engine Price and Battery is 0.67 which is greater than 0.54 so it is a positive correlation. "
   ]
  },
  {
   "cell_type": "code",
   "execution_count": null,
   "id": "4fb3e650-3847-4add-ac23-87b82262bb37",
   "metadata": {},
   "outputs": [],
   "source": [
    "mob_dataset.head()"
   ]
  },
  {
   "cell_type": "markdown",
   "id": "68b13cd3-d200-49fa-9373-46aa68025229",
   "metadata": {},
   "source": [
    "# T-test and Hypothesis testing"
   ]
  },
  {
   "cell_type": "markdown",
   "id": "7fb3e263-3d7a-4ce2-965c-d7f0fd1d8ea4",
   "metadata": {},
   "source": [
    "# Unpaired t-test\n",
    "# Different group (product_id 203, product id 880) but same condition (price)"
   ]
  },
  {
   "cell_type": "code",
   "execution_count": null,
   "id": "400438f8-9d1c-4bef-8c50-e874bee8d4d8",
   "metadata": {},
   "outputs": [],
   "source": [
    "from scipy.stats import ttest_ind"
   ]
  },
  {
   "cell_type": "code",
   "execution_count": null,
   "id": "588ba9b3-e607-498d-90ec-049b16b2be50",
   "metadata": {},
   "outputs": [],
   "source": [
    "product_203_price = mob_dataset[mob_dataset[\"product id\"]==203][\"price\"]\n",
    "product_880_price  = mob_dataset[mob_dataset[\"product id\"]==880][\"price\"]"
   ]
  },
  {
   "cell_type": "code",
   "execution_count": null,
   "id": "94f65c18-9d72-4864-bd70-cc3ae8b31784",
   "metadata": {},
   "outputs": [],
   "source": [
    "ttest_ind(product_203_price,product_880_price)"
   ]
  },
  {
   "cell_type": "code",
   "execution_count": null,
   "id": "219b4bed-6aed-499b-a40b-b5e44b4525d4",
   "metadata": {},
   "outputs": [],
   "source": [
    "# Paired t-test\n",
    "# Same group (product_id 880) but different conditions (rearcam, frontcam)"
   ]
  },
  {
   "cell_type": "code",
   "execution_count": null,
   "id": "52c5fc48-4d9a-47a9-af72-614f22a15685",
   "metadata": {},
   "outputs": [],
   "source": [
    "product_880_frontcam = mob_dataset[mob_dataset[\"product id\"]==880][\"front cam\"]\n",
    "product_880_rearcam = mob_dataset[mob_dataset[\"product id\"]==880][\"rearcam\"]"
   ]
  },
  {
   "cell_type": "code",
   "execution_count": null,
   "id": "47efbca5-1db7-41c4-b55f-a54f0a70760f",
   "metadata": {},
   "outputs": [],
   "source": [
    "from scipy.stats import ttest_rel\n",
    "ttest_rel(product_880_frontcam, product_880_rearcam)"
   ]
  },
  {
   "cell_type": "markdown",
   "id": "6920c3ff-ebf9-48a9-9ca7-3b87c9d69d53",
   "metadata": {},
   "source": [
    "# Hypothesis testing"
   ]
  },
  {
   "cell_type": "markdown",
   "id": "078d688e-4c04-4ee5-baa3-de16fe10a13d",
   "metadata": {},
   "source": [
    "## Hypothesis testing\n",
    "## Statement: test whether the front cam of product 880 and rearcam of product 880 are same\n",
    "## Null hupothesis: There is no significant difference between front cam of product 880 and rearcam of product 880 \n",
    "## Null hupothesis: There is a significant difference between front cam of product 880 and rearcam of product 880 "
   ]
  },
  {
   "cell_type": "markdown",
   "id": "983626c0-55f0-41b3-bf31-93699651d965",
   "metadata": {},
   "source": [
    "## H0 - Reject null hypothesis if  p value < 0.05, \n",
    "## here the p is < 0.05 the above condition is True so \n",
    "## the solution is accept alternative hypothesis"
   ]
  },
  {
   "cell_type": "markdown",
   "id": "f925f522-d809-4cd0-a1dd-237ff62ec66f",
   "metadata": {},
   "source": [
    "# ANOVA test"
   ]
  },
  {
   "cell_type": "code",
   "execution_count": null,
   "id": "20fc6a5d-f06f-4c29-bf3d-7530d03187ff",
   "metadata": {},
   "outputs": [],
   "source": [
    "from scipy import stats"
   ]
  },
  {
   "cell_type": "markdown",
   "id": "336c5fc4-76b4-461a-b3ff-20477a5cf38c",
   "metadata": {},
   "source": [
    "## Statement: Ho - There is no significant difference between  internal mem,\tram and weight\n",
    "## H1 - There is a significant difference between internal mem,\tram and weight\n",
    "## Accept/Reject: if p < 0.05 then reject Ho (null hypothesis),\n",
    "## or else accept Ho (null hypothesis) and reject H1 (alternate hypothesis)"
   ]
  },
  {
   "cell_type": "code",
   "execution_count": null,
   "id": "c9fe3fbd-310e-4f40-a6c1-c1b9f7cb8c81",
   "metadata": {},
   "outputs": [],
   "source": [
    "stats.f_oneway(mob_dataset[\"internal mem\"], mob_dataset[\"ram\"], mob_dataset[\"weight\"])"
   ]
  },
  {
   "cell_type": "markdown",
   "id": "c61dc50b-d286-48af-ae79-d1048475b7fa",
   "metadata": {},
   "source": [
    "## Statement: Ho - There is no significant difference between internal mem, ram and weight\n",
    "## H1 - There is a significant difference between internal mem, ram and weight\n",
    "## Accept/Reject: if p > 0.05 then accept Ho (null hypothesis),"
   ]
  },
  {
   "cell_type": "code",
   "execution_count": null,
   "id": "98b47743-2093-4dbe-9340-c29e09a6606a",
   "metadata": {},
   "outputs": [],
   "source": [
    "from statsmodels.formula.api import ols\n",
    "model = ols(formula= \"price ~ weight + ppi + thickness\", \n",
    "            data=mob_dataset).fit()  \n"
   ]
  },
  {
   "cell_type": "code",
   "execution_count": null,
   "id": "a0c3313b-80a4-48e2-87c8-6aec3621c242",
   "metadata": {},
   "outputs": [],
   "source": [
    "model"
   ]
  },
  {
   "cell_type": "code",
   "execution_count": null,
   "id": "7200304a-4131-4546-ab23-ed8d253814a8",
   "metadata": {},
   "outputs": [],
   "source": [
    "import statsmodels.api as sm"
   ]
  },
  {
   "cell_type": "code",
   "execution_count": null,
   "id": "2c43eff2-8c69-48d2-b043-27284bc8228d",
   "metadata": {},
   "outputs": [],
   "source": [
    "sm.stats.anova_lm(model, typ=3)"
   ]
  },
  {
   "cell_type": "markdown",
   "id": "02468f3f-6a73-4df6-98af-d8968c6a6a75",
   "metadata": {},
   "source": [
    "# Here p values of all the mentioned columns are > 0.05 so we can accept alternate hypothesis"
   ]
  },
  {
   "cell_type": "code",
   "execution_count": null,
   "id": "371761c0-6a14-442f-bc49-58e755da2531",
   "metadata": {},
   "outputs": [],
   "source": []
  }
 ],
 "metadata": {
  "kernelspec": {
   "display_name": "Python 3 (ipykernel)",
   "language": "python",
   "name": "python3"
  },
  "language_info": {
   "codemirror_mode": {
    "name": "ipython",
    "version": 3
   },
   "file_extension": ".py",
   "mimetype": "text/x-python",
   "name": "python",
   "nbconvert_exporter": "python",
   "pygments_lexer": "ipython3",
   "version": "3.11.5"
  }
 },
 "nbformat": 4,
 "nbformat_minor": 5
}
